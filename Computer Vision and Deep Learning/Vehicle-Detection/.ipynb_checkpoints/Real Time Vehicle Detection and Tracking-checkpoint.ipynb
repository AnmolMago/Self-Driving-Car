{
 "cells": [
  {
   "cell_type": "code",
   "execution_count": 1,
   "metadata": {
    "collapsed": true
   },
   "outputs": [],
   "source": [
    "# Imports\n",
    "import random\n",
    "\n",
    "import glob\n",
    "import numpy as np\n",
    "import cv2"
   ]
  },
  {
   "cell_type": "code",
   "execution_count": 2,
   "metadata": {
    "collapsed": false
   },
   "outputs": [],
   "source": [
    "np.random.seed(137)\n",
    "random.seed(137)\n",
    "\n",
    "def compare_images(images, mult=3, plot=None):\n",
    "    img_count = len(images)\n",
    "    fig, axs = plt.subplots(1,img_count, figsize=(mult*img_count, mult))\n",
    "\n",
    "    i=0\n",
    "    for title, img in images:\n",
    "        try:\n",
    "            img = cv2.cvtColor(img, cv2.COLOR_BGR2RGB)\n",
    "        except:\n",
    "            pass\n",
    "        axs[i].axis('off')\n",
    "        axs[i].imshow(img.squeeze(), cmap='gray')\n",
    "        axs[i].set_title(title, fontsize=14)\n",
    "        i += 1\n",
    "        \n",
    "    if plot is not None:\n",
    "        left_fit_x, right_fit_x = plot\n",
    "        y_values = [y for y in range(721)]\n",
    "        axs[1].set_xlim(0, 1280)\n",
    "        axs[1].set_ylim(0, 720)\n",
    "        axs[1].plot(left_fit_x, y_values, color='red', linewidth=3)\n",
    "        axs[1].plot(right_fit_x, y_values, color='red', linewidth=3)"
   ]
  },
  {
   "cell_type": "code",
   "execution_count": 3,
   "metadata": {
    "collapsed": false
   },
   "outputs": [],
   "source": [
    "cars = glob.glob('./vehicles/**/*.png', recursive=True)\n",
    "notcars = glob.glob('./non-vehicles/**/*.png', recursive=True)\n",
    "\n",
    "X_data = []\n",
    "y_data = []\n",
    "for img_path in cars:\n",
    "    X_data.append(img_path)\n",
    "    y_data.append(1)\n",
    "\n",
    "for img_path in notcars:\n",
    "    X_data.append(img_path)\n",
    "    y_data.append(0)"
   ]
  },
  {
   "cell_type": "code",
   "execution_count": 4,
   "metadata": {
    "collapsed": false
   },
   "outputs": [
    {
     "name": "stdout",
     "output_type": "stream",
     "text": [
      "cars:     8792\n",
      "not cars: 8968\n"
     ]
    }
   ],
   "source": [
    "print('cars:    ', len(cars))\n",
    "print('not cars:', len(notcars))"
   ]
  },
  {
   "cell_type": "code",
   "execution_count": 6,
   "metadata": {
    "collapsed": false
   },
   "outputs": [],
   "source": [
    "#features\n",
    "# ------------------------------------------------------------------------------\n",
    "def hog_features(img, orientation, px_per_cell, cell_per_block,\n",
    "                 feature_vec=True, vis=False):\n",
    "    features, img_hog = hog(img, orientations=orient, \n",
    "                            pixels_per_cell=(px_per_cell, px_per_cell),\n",
    "                            cells_per_block=(cell_per_block, cell_per_block), \n",
    "                            transform_sqrt=True, visualise=vis,\n",
    "                            feature_vector=feature_vec)\n",
    "    if vis:\n",
    "        return features, img_hog\n",
    "    return features\n",
    "\n",
    "def spatial_binning(img, size=(32, 32)):\n",
    "    return cv2.resize(img, size).ravel()\n",
    "\n",
    "def color_histogram(img, nbins=32, bins_range=(0, 256)):\n",
    "    hist_channel1 = np.histogram(img[:,:,0], bins=nbins, range=bins_range)\n",
    "    hist_channel2 = np.histogram(img[:,:,1], bins=nbins, range=bins_range)\n",
    "    hist_channel3 = np.histogram(img[:,:,2], bins=nbins, range=bins_range)\n",
    "    \n",
    "    bin_edges = hist_channel1[1]\n",
    "    bin_centers = (bin_edges[1:]  + bin_edges[0:len(bin_edges)-1])/2\n",
    "    \n",
    "    hist_features = np.concatenate((channel1_hist[0], channel2_hist[0], channel3_hist[0]))\n",
    "    return channel1_hist, channel2_hist, channel3_hist, bin_centers, hist_features\n",
    "\n",
    "def get_features():\n",
    "    pass"
   ]
  },
  {
   "cell_type": "code",
   "execution_count": 7,
   "metadata": {
    "collapsed": true
   },
   "outputs": [],
   "source": [
    "#sliding window\n",
    "def get_window_grid():\n",
    "    pass\n",
    "\n",
    "def draw_boxes():\n",
    "    pass"
   ]
  },
  {
   "cell_type": "code",
   "execution_count": null,
   "metadata": {
    "collapsed": true
   },
   "outputs": [],
   "source": []
  }
 ],
 "metadata": {
  "anaconda-cloud": {},
  "kernelspec": {
   "display_name": "Python 3",
   "language": "python",
   "name": "python3"
  },
  "language_info": {
   "codemirror_mode": {
    "name": "ipython",
    "version": 3
   },
   "file_extension": ".py",
   "mimetype": "text/x-python",
   "name": "python",
   "nbconvert_exporter": "python",
   "pygments_lexer": "ipython3",
   "version": "3.5.2"
  },
  "widgets": {
   "state": {},
   "version": "1.1.2"
  }
 },
 "nbformat": 4,
 "nbformat_minor": 1
}
