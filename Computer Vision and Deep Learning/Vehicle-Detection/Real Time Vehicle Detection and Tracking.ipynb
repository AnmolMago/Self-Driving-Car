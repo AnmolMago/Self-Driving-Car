{
 "cells": [
  {
   "cell_type": "code",
   "execution_count": 4,
   "metadata": {
    "collapsed": true
   },
   "outputs": [],
   "source": [
    "# Imports\n",
    "import random\n",
    "\n",
    "import glob\n",
    "import numpy as np\n",
    "import cv2"
   ]
  },
  {
   "cell_type": "code",
   "execution_count": 2,
   "metadata": {
    "collapsed": true
   },
   "outputs": [],
   "source": [
    "np.random.seed(137)\n",
    "random.seed(137)"
   ]
  },
  {
   "cell_type": "code",
   "execution_count": 6,
   "metadata": {
    "collapsed": false
   },
   "outputs": [],
   "source": [
    "cars = glob.glob('./vehicles/**/*.png', recursive=True)\n",
    "notcars = glob.glob('./non-vehicles/**/*.png', recursive=True)\n",
    "\n",
    "X_data = []\n",
    "y_data = []\n",
    "for img_path in cars:\n",
    "    X_data.append(img_path)\n",
    "    y_data.append(1)\n",
    "\n",
    "for img_path in notcars:\n",
    "    X_data.append(img_path)\n",
    "    y_data.append(0)"
   ]
  },
  {
   "cell_type": "code",
   "execution_count": 11,
   "metadata": {
    "collapsed": false
   },
   "outputs": [
    {
     "name": "stdout",
     "output_type": "stream",
     "text": [
      "cars: 8792\n",
      "not cars: 8968\n"
     ]
    }
   ],
   "source": [
    "print('cars:', len(cars))\n",
    "print('not cars:', len(notcars))"
   ]
  },
  {
   "cell_type": "code",
   "execution_count": null,
   "metadata": {
    "collapsed": true
   },
   "outputs": [],
   "source": [
    "#features\n",
    "def get_hog_features():\n",
    "    pass\n",
    "\n",
    "def get_"
   ]
  }
 ],
 "metadata": {
  "anaconda-cloud": {},
  "kernelspec": {
   "display_name": "Python 3",
   "language": "python",
   "name": "python3"
  },
  "language_info": {
   "codemirror_mode": {
    "name": "ipython",
    "version": 3
   },
   "file_extension": ".py",
   "mimetype": "text/x-python",
   "name": "python",
   "nbconvert_exporter": "python",
   "pygments_lexer": "ipython3",
   "version": "3.5.2"
  },
  "widgets": {
   "state": {},
   "version": "1.1.2"
  }
 },
 "nbformat": 4,
 "nbformat_minor": 1
}
